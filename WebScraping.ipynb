{
  "nbformat": 4,
  "nbformat_minor": 0,
  "metadata": {
    "colab": {
      "provenance": [],
      "authorship_tag": "ABX9TyPMJLYt/m3gVX2qdKpJhzMA",
      "include_colab_link": true
    },
    "kernelspec": {
      "name": "python3",
      "display_name": "Python 3"
    },
    "language_info": {
      "name": "python"
    }
  },
  "cells": [
    {
      "cell_type": "markdown",
      "metadata": {
        "id": "view-in-github",
        "colab_type": "text"
      },
      "source": [
        "<a href=\"https://colab.research.google.com/github/Manmeet-20/HindiNewsClassifier_BERT/blob/main/WebScraping.ipynb\" target=\"_parent\"><img src=\"https://colab.research.google.com/assets/colab-badge.svg\" alt=\"Open In Colab\"/></a>"
      ]
    },
    {
      "cell_type": "markdown",
      "source": [
        "# **WebScraping For Hindi News Dataset**"
      ],
      "metadata": {
        "id": "iGnZ-U2OELdg"
      }
    },
    {
      "cell_type": "code",
      "execution_count": null,
      "metadata": {
        "id": "RfolmC8kHLxE"
      },
      "outputs": [],
      "source": [
        "import requests\n",
        "from bs4 import BeautifulSoup"
      ]
    },
    {
      "cell_type": "markdown",
      "source": [
        " **BBC Hindi**"
      ],
      "metadata": {
        "id": "nUOjawbiYov3"
      }
    },
    {
      "cell_type": "code",
      "source": [
        "def get_data(pageno, base_url, label):\n",
        "    url = f'{base_url}?page={pageno}'\n",
        "    r=requests.get(url)\n",
        "    soup=BeautifulSoup(r.content,'html.parser')\n",
        "    complete=[]\n",
        "    for d in soup.find_all('div',attrs={'class':\"bbc-l5xv05 e1v051r10\"}):\n",
        "        title_name=d.find('a',attrs={'class':\"bbc-1i4ie53 e1d658bg0\"})\n",
        "        if title_name is not None:\n",
        "            if title_name.find('span', attrs={'data-testid': 'visually-hidden-text'}):\n",
        "                continue\n",
        "            complete.append([title_name.text,label])\n",
        "    return complete"
      ],
      "metadata": {
        "id": "ivZ2awwqHOXp"
      },
      "execution_count": null,
      "outputs": []
    },
    {
      "cell_type": "code",
      "source": [
        "categories = [\n",
        "    ('India & World', 'https://www.bbc.com/hindi/topics/ckdxnkz7607t', 40),\n",
        "    ('India & World', 'https://www.bbc.com/hindi/topics/c9wpm0en87xt', 40),\n",
        "    ('Health', 'https://www.bbc.com/hindi/topics/cr50ykdx5wqt', 40),\n",
        "    ('Entertainment', 'https://www.bbc.com/hindi/topics/c06gq3n0pp7t', 34),\n",
        "    ('Sports', 'https://www.bbc.com/hindi/topics/cwr9j8g1kj9t', 40),\n",
        "]"
      ],
      "metadata": {
        "id": "4IOsEHbdX_4C"
      },
      "execution_count": null,
      "outputs": []
    },
    {
      "cell_type": "code",
      "source": [
        "all_data = []"
      ],
      "metadata": {
        "id": "BXUbChNrZFpn"
      },
      "execution_count": null,
      "outputs": []
    },
    {
      "cell_type": "code",
      "source": [
        "for label, base_url, max_pages in categories:\n",
        "    for page in range(1, max_pages + 1):\n",
        "        data = get_data(page, base_url, label)\n",
        "        if not data:\n",
        "            break\n",
        "        all_data.extend(data)\n",
        "\n",
        "for row in all_data[:10]:\n",
        "    print(row)"
      ],
      "metadata": {
        "colab": {
          "base_uri": "https://localhost:8080/"
        },
        "id": "YiTUA9kkZGhu",
        "outputId": "ffafa19d-14ff-441d-ce8f-2c66b09e63fa"
      },
      "execution_count": null,
      "outputs": [
        {
          "output_type": "stream",
          "name": "stdout",
          "text": [
            "['ट्रंप ने एपल से कहा भारत छोड़ो लेकिन क्या अपने पैर जमा चुकी कंपनी ऐसा कर पायेगी?', 'India & World']\n",
            "['शशि थरूर का नाम विदेश जाने वाले दल में शामिल करने को लेकर विवाद क्यों?', 'India & World']\n",
            "['डाकू मान सिंह जिसने गोवा को आज़ाद कराने का भारत सरकार को दिया था प्रस्ताव', 'India & World']\n",
            "['शेख़ हसीना की पार्टी पर बैन लगने से क्या बांग्लादेश में राजनीतिक संकट गहरा गया है?', 'India & World']\n",
            "['अर्दोआन और पीएम मोदी में क्यों देखी जाती है समानता, कहाँ जाएगा तुर्की-भारत का तनाव?', 'India & World']\n",
            "['बिहार के सारण में मॉब लिंचिंग की घटना, पीड़ित परिवार और पुलिस ने क्या बताया?', 'India & World']\n",
            "['कार्टून: ज़रा संभाल के', 'India & World']\n",
            "['तुर्की की एविएशन सर्विसेज़ कंपनी चेलेबी का भारत में लाइसेंस रद्द, जानिए कंपनी के लिए कितना बड़ा झटका', 'India & World']\n",
            "[\"'पाकिस्तान की सेना बैक़फुट पर', ऐसा क्यों कह रहे हैं एक्सपर्ट उदय भास्कर\", 'India & World']\n",
            "['भारत-पाकिस्तान संघर्ष: किसे कितना नुक़सान, क्या कह रहे हैं एक्सपर्ट', 'India & World']\n"
          ]
        }
      ]
    },
    {
      "cell_type": "markdown",
      "source": [
        " **News18 Hindi**"
      ],
      "metadata": {
        "id": "Uo-bba2RbWDg"
      }
    },
    {
      "cell_type": "code",
      "source": [
        "def get_data2(pageno, base_url, label):\n",
        "    url = f'{base_url}/page-{pageno}'\n",
        "    r=requests.get(url)\n",
        "    soup=BeautifulSoup(r.content,'html.parser')\n",
        "    complete=[]\n",
        "    for d in soup.find_all('li',attrs={'class':\"jsx-23dbad4be95bb272 jsx-3642756348\"}):\n",
        "        title_name=d.find('figcaption',attrs={'class':\"jsx-23dbad4be95bb272 jsx-3642756348\"})\n",
        "        if title_name is not None:\n",
        "            complete.append([title_name.text,label])\n",
        "    return complete"
      ],
      "metadata": {
        "id": "9DtUhMRBbZOh"
      },
      "execution_count": null,
      "outputs": []
    },
    {
      "cell_type": "code",
      "source": [
        "categories2 = [\n",
        "    ('Crime', 'https://hindi.news18.com/news/crime', 31),\n",
        "    ('Education & Career', 'https://hindi.news18.com/news/career', 31),\n",
        "    ('Entertainment', 'https://hindi.news18.com/news/entertainment', 31),\n",
        "    ('Health', 'https://hindi.news18.com/news/health', 31),\n",
        "    ('Sports', 'https://hindi.news18.com/news/sports', 31),\n",
        "]"
      ],
      "metadata": {
        "id": "AY4Qie9wb8Za"
      },
      "execution_count": null,
      "outputs": []
    },
    {
      "cell_type": "code",
      "source": [
        "for label, base_url, max_pages in categories2:\n",
        "    for page in range(2, max_pages + 1):\n",
        "        data = get_data2(page, base_url, label)\n",
        "        if not data:\n",
        "            break\n",
        "        all_data.extend(data)"
      ],
      "metadata": {
        "collapsed": true,
        "id": "Qfc24gqsciFo"
      },
      "execution_count": null,
      "outputs": []
    },
    {
      "cell_type": "code",
      "source": [
        "import pandas as pd\n",
        "df = pd.DataFrame(all_data, columns=['Title', 'Category'])\n",
        "df.head()"
      ],
      "metadata": {
        "colab": {
          "base_uri": "https://localhost:8080/",
          "height": 206
        },
        "id": "5hR3b7HDcydp",
        "outputId": "fa94a72e-a654-4cbf-ad53-0f15706d972f"
      },
      "execution_count": null,
      "outputs": [
        {
          "output_type": "execute_result",
          "data": {
            "text/plain": [
              "                                               Title       Category\n",
              "0  ट्रंप ने एपल से कहा भारत छोड़ो लेकिन क्या अपने...  India & World\n",
              "1  शशि थरूर का नाम विदेश जाने वाले दल में शामिल क...  India & World\n",
              "2  डाकू मान सिंह जिसने गोवा को आज़ाद कराने का भार...  India & World\n",
              "3  शेख़ हसीना की पार्टी पर बैन लगने से क्या बांग्...  India & World\n",
              "4  अर्दोआन और पीएम मोदी में क्यों देखी जाती है सम...  India & World"
            ],
            "text/html": [
              "\n",
              "  <div id=\"df-7297022b-f155-4030-9b5b-5a42eb6d8d69\" class=\"colab-df-container\">\n",
              "    <div>\n",
              "<style scoped>\n",
              "    .dataframe tbody tr th:only-of-type {\n",
              "        vertical-align: middle;\n",
              "    }\n",
              "\n",
              "    .dataframe tbody tr th {\n",
              "        vertical-align: top;\n",
              "    }\n",
              "\n",
              "    .dataframe thead th {\n",
              "        text-align: right;\n",
              "    }\n",
              "</style>\n",
              "<table border=\"1\" class=\"dataframe\">\n",
              "  <thead>\n",
              "    <tr style=\"text-align: right;\">\n",
              "      <th></th>\n",
              "      <th>Title</th>\n",
              "      <th>Category</th>\n",
              "    </tr>\n",
              "  </thead>\n",
              "  <tbody>\n",
              "    <tr>\n",
              "      <th>0</th>\n",
              "      <td>ट्रंप ने एपल से कहा भारत छोड़ो लेकिन क्या अपने...</td>\n",
              "      <td>India &amp; World</td>\n",
              "    </tr>\n",
              "    <tr>\n",
              "      <th>1</th>\n",
              "      <td>शशि थरूर का नाम विदेश जाने वाले दल में शामिल क...</td>\n",
              "      <td>India &amp; World</td>\n",
              "    </tr>\n",
              "    <tr>\n",
              "      <th>2</th>\n",
              "      <td>डाकू मान सिंह जिसने गोवा को आज़ाद कराने का भार...</td>\n",
              "      <td>India &amp; World</td>\n",
              "    </tr>\n",
              "    <tr>\n",
              "      <th>3</th>\n",
              "      <td>शेख़ हसीना की पार्टी पर बैन लगने से क्या बांग्...</td>\n",
              "      <td>India &amp; World</td>\n",
              "    </tr>\n",
              "    <tr>\n",
              "      <th>4</th>\n",
              "      <td>अर्दोआन और पीएम मोदी में क्यों देखी जाती है सम...</td>\n",
              "      <td>India &amp; World</td>\n",
              "    </tr>\n",
              "  </tbody>\n",
              "</table>\n",
              "</div>\n",
              "    <div class=\"colab-df-buttons\">\n",
              "\n",
              "  <div class=\"colab-df-container\">\n",
              "    <button class=\"colab-df-convert\" onclick=\"convertToInteractive('df-7297022b-f155-4030-9b5b-5a42eb6d8d69')\"\n",
              "            title=\"Convert this dataframe to an interactive table.\"\n",
              "            style=\"display:none;\">\n",
              "\n",
              "  <svg xmlns=\"http://www.w3.org/2000/svg\" height=\"24px\" viewBox=\"0 -960 960 960\">\n",
              "    <path d=\"M120-120v-720h720v720H120Zm60-500h600v-160H180v160Zm220 220h160v-160H400v160Zm0 220h160v-160H400v160ZM180-400h160v-160H180v160Zm440 0h160v-160H620v160ZM180-180h160v-160H180v160Zm440 0h160v-160H620v160Z\"/>\n",
              "  </svg>\n",
              "    </button>\n",
              "\n",
              "  <style>\n",
              "    .colab-df-container {\n",
              "      display:flex;\n",
              "      gap: 12px;\n",
              "    }\n",
              "\n",
              "    .colab-df-convert {\n",
              "      background-color: #E8F0FE;\n",
              "      border: none;\n",
              "      border-radius: 50%;\n",
              "      cursor: pointer;\n",
              "      display: none;\n",
              "      fill: #1967D2;\n",
              "      height: 32px;\n",
              "      padding: 0 0 0 0;\n",
              "      width: 32px;\n",
              "    }\n",
              "\n",
              "    .colab-df-convert:hover {\n",
              "      background-color: #E2EBFA;\n",
              "      box-shadow: 0px 1px 2px rgba(60, 64, 67, 0.3), 0px 1px 3px 1px rgba(60, 64, 67, 0.15);\n",
              "      fill: #174EA6;\n",
              "    }\n",
              "\n",
              "    .colab-df-buttons div {\n",
              "      margin-bottom: 4px;\n",
              "    }\n",
              "\n",
              "    [theme=dark] .colab-df-convert {\n",
              "      background-color: #3B4455;\n",
              "      fill: #D2E3FC;\n",
              "    }\n",
              "\n",
              "    [theme=dark] .colab-df-convert:hover {\n",
              "      background-color: #434B5C;\n",
              "      box-shadow: 0px 1px 3px 1px rgba(0, 0, 0, 0.15);\n",
              "      filter: drop-shadow(0px 1px 2px rgba(0, 0, 0, 0.3));\n",
              "      fill: #FFFFFF;\n",
              "    }\n",
              "  </style>\n",
              "\n",
              "    <script>\n",
              "      const buttonEl =\n",
              "        document.querySelector('#df-7297022b-f155-4030-9b5b-5a42eb6d8d69 button.colab-df-convert');\n",
              "      buttonEl.style.display =\n",
              "        google.colab.kernel.accessAllowed ? 'block' : 'none';\n",
              "\n",
              "      async function convertToInteractive(key) {\n",
              "        const element = document.querySelector('#df-7297022b-f155-4030-9b5b-5a42eb6d8d69');\n",
              "        const dataTable =\n",
              "          await google.colab.kernel.invokeFunction('convertToInteractive',\n",
              "                                                    [key], {});\n",
              "        if (!dataTable) return;\n",
              "\n",
              "        const docLinkHtml = 'Like what you see? Visit the ' +\n",
              "          '<a target=\"_blank\" href=https://colab.research.google.com/notebooks/data_table.ipynb>data table notebook</a>'\n",
              "          + ' to learn more about interactive tables.';\n",
              "        element.innerHTML = '';\n",
              "        dataTable['output_type'] = 'display_data';\n",
              "        await google.colab.output.renderOutput(dataTable, element);\n",
              "        const docLink = document.createElement('div');\n",
              "        docLink.innerHTML = docLinkHtml;\n",
              "        element.appendChild(docLink);\n",
              "      }\n",
              "    </script>\n",
              "  </div>\n",
              "\n",
              "\n",
              "    <div id=\"df-c383de47-dd3f-4401-b83a-d1bca8bc56ae\">\n",
              "      <button class=\"colab-df-quickchart\" onclick=\"quickchart('df-c383de47-dd3f-4401-b83a-d1bca8bc56ae')\"\n",
              "                title=\"Suggest charts\"\n",
              "                style=\"display:none;\">\n",
              "\n",
              "<svg xmlns=\"http://www.w3.org/2000/svg\" height=\"24px\"viewBox=\"0 0 24 24\"\n",
              "     width=\"24px\">\n",
              "    <g>\n",
              "        <path d=\"M19 3H5c-1.1 0-2 .9-2 2v14c0 1.1.9 2 2 2h14c1.1 0 2-.9 2-2V5c0-1.1-.9-2-2-2zM9 17H7v-7h2v7zm4 0h-2V7h2v10zm4 0h-2v-4h2v4z\"/>\n",
              "    </g>\n",
              "</svg>\n",
              "      </button>\n",
              "\n",
              "<style>\n",
              "  .colab-df-quickchart {\n",
              "      --bg-color: #E8F0FE;\n",
              "      --fill-color: #1967D2;\n",
              "      --hover-bg-color: #E2EBFA;\n",
              "      --hover-fill-color: #174EA6;\n",
              "      --disabled-fill-color: #AAA;\n",
              "      --disabled-bg-color: #DDD;\n",
              "  }\n",
              "\n",
              "  [theme=dark] .colab-df-quickchart {\n",
              "      --bg-color: #3B4455;\n",
              "      --fill-color: #D2E3FC;\n",
              "      --hover-bg-color: #434B5C;\n",
              "      --hover-fill-color: #FFFFFF;\n",
              "      --disabled-bg-color: #3B4455;\n",
              "      --disabled-fill-color: #666;\n",
              "  }\n",
              "\n",
              "  .colab-df-quickchart {\n",
              "    background-color: var(--bg-color);\n",
              "    border: none;\n",
              "    border-radius: 50%;\n",
              "    cursor: pointer;\n",
              "    display: none;\n",
              "    fill: var(--fill-color);\n",
              "    height: 32px;\n",
              "    padding: 0;\n",
              "    width: 32px;\n",
              "  }\n",
              "\n",
              "  .colab-df-quickchart:hover {\n",
              "    background-color: var(--hover-bg-color);\n",
              "    box-shadow: 0 1px 2px rgba(60, 64, 67, 0.3), 0 1px 3px 1px rgba(60, 64, 67, 0.15);\n",
              "    fill: var(--button-hover-fill-color);\n",
              "  }\n",
              "\n",
              "  .colab-df-quickchart-complete:disabled,\n",
              "  .colab-df-quickchart-complete:disabled:hover {\n",
              "    background-color: var(--disabled-bg-color);\n",
              "    fill: var(--disabled-fill-color);\n",
              "    box-shadow: none;\n",
              "  }\n",
              "\n",
              "  .colab-df-spinner {\n",
              "    border: 2px solid var(--fill-color);\n",
              "    border-color: transparent;\n",
              "    border-bottom-color: var(--fill-color);\n",
              "    animation:\n",
              "      spin 1s steps(1) infinite;\n",
              "  }\n",
              "\n",
              "  @keyframes spin {\n",
              "    0% {\n",
              "      border-color: transparent;\n",
              "      border-bottom-color: var(--fill-color);\n",
              "      border-left-color: var(--fill-color);\n",
              "    }\n",
              "    20% {\n",
              "      border-color: transparent;\n",
              "      border-left-color: var(--fill-color);\n",
              "      border-top-color: var(--fill-color);\n",
              "    }\n",
              "    30% {\n",
              "      border-color: transparent;\n",
              "      border-left-color: var(--fill-color);\n",
              "      border-top-color: var(--fill-color);\n",
              "      border-right-color: var(--fill-color);\n",
              "    }\n",
              "    40% {\n",
              "      border-color: transparent;\n",
              "      border-right-color: var(--fill-color);\n",
              "      border-top-color: var(--fill-color);\n",
              "    }\n",
              "    60% {\n",
              "      border-color: transparent;\n",
              "      border-right-color: var(--fill-color);\n",
              "    }\n",
              "    80% {\n",
              "      border-color: transparent;\n",
              "      border-right-color: var(--fill-color);\n",
              "      border-bottom-color: var(--fill-color);\n",
              "    }\n",
              "    90% {\n",
              "      border-color: transparent;\n",
              "      border-bottom-color: var(--fill-color);\n",
              "    }\n",
              "  }\n",
              "</style>\n",
              "\n",
              "      <script>\n",
              "        async function quickchart(key) {\n",
              "          const quickchartButtonEl =\n",
              "            document.querySelector('#' + key + ' button');\n",
              "          quickchartButtonEl.disabled = true;  // To prevent multiple clicks.\n",
              "          quickchartButtonEl.classList.add('colab-df-spinner');\n",
              "          try {\n",
              "            const charts = await google.colab.kernel.invokeFunction(\n",
              "                'suggestCharts', [key], {});\n",
              "          } catch (error) {\n",
              "            console.error('Error during call to suggestCharts:', error);\n",
              "          }\n",
              "          quickchartButtonEl.classList.remove('colab-df-spinner');\n",
              "          quickchartButtonEl.classList.add('colab-df-quickchart-complete');\n",
              "        }\n",
              "        (() => {\n",
              "          let quickchartButtonEl =\n",
              "            document.querySelector('#df-c383de47-dd3f-4401-b83a-d1bca8bc56ae button');\n",
              "          quickchartButtonEl.style.display =\n",
              "            google.colab.kernel.accessAllowed ? 'block' : 'none';\n",
              "        })();\n",
              "      </script>\n",
              "    </div>\n",
              "\n",
              "    </div>\n",
              "  </div>\n"
            ],
            "application/vnd.google.colaboratory.intrinsic+json": {
              "type": "dataframe",
              "variable_name": "df",
              "summary": "{\n  \"name\": \"df\",\n  \"rows\": 8731,\n  \"fields\": [\n    {\n      \"column\": \"Title\",\n      \"properties\": {\n        \"dtype\": \"string\",\n        \"num_unique_values\": 8076,\n        \"samples\": [\n          \"\\u0930\\u093e\\u091c\\u0938\\u094d\\u0925\\u093e\\u0928: \\u091c\\u092c\\u0930\\u0928 \\u0927\\u0930\\u094d\\u092e \\u092a\\u0930\\u093f\\u0935\\u0930\\u094d\\u0924\\u0928 \\u092a\\u0930 \\u092c\\u0928\\u0947\\u0917\\u093e \\u0915\\u093c\\u093e\\u0928\\u0942\\u0928, \\u0932\\u0947\\u0915\\u093f\\u0928 \\u0915\\u094d\\u092f\\u093e \\u0939\\u0948\\u0902 \\u091a\\u0941\\u0928\\u094c\\u0924\\u093f\\u092f\\u093e\\u0902\",\n          \"\\u0925\\u0915\\u093e\\u0928 \\u0915\\u092e \\u0915\\u0930\\u0928\\u0947 \\u0914\\u0930 \\u0928\\u0940\\u0902\\u0926 \\u0938\\u0941\\u0927\\u093e\\u0930\\u0928\\u0947 \\u0915\\u0947 \\u092a\\u093e\\u0902\\u091a \\u0928\\u0941\\u0938\\u094d\\u0916\\u0947\",\n          \"\\u092c\\u093f\\u0939\\u093e\\u0930 \\u092e\\u0947\\u0902 \\u092a\\u0932\\u0947-\\u092c\\u0922\\u093c\\u0947 \\u0906\\u0930 \\u092e\\u093e\\u0927\\u0935\\u0928 \\u0915\\u093e \\u0915\\u0948\\u0938\\u093e \\u0930\\u0939\\u093e \\u0924\\u092e\\u093f\\u0932 \\u0938\\u0947 \\u0932\\u0947\\u0915\\u0930 \\u0939\\u093f\\u0902\\u0926\\u0940 \\u0938\\u093f\\u0928\\u0947\\u092e\\u093e \\u0915\\u093e \\u0938\\u092b\\u093c\\u0930\"\n        ],\n        \"semantic_type\": \"\",\n        \"description\": \"\"\n      }\n    },\n    {\n      \"column\": \"Category\",\n      \"properties\": {\n        \"dtype\": \"category\",\n        \"num_unique_values\": 6,\n        \"samples\": [\n          \"India & World\",\n          \"Health\",\n          \"Education & Career\"\n        ],\n        \"semantic_type\": \"\",\n        \"description\": \"\"\n      }\n    }\n  ]\n}"
            }
          },
          "metadata": {},
          "execution_count": 17
        }
      ]
    },
    {
      "cell_type": "code",
      "source": [
        "counts = df['Category'].value_counts()\n",
        "print(counts)"
      ],
      "metadata": {
        "colab": {
          "base_uri": "https://localhost:8080/"
        },
        "id": "zcPq2G0gdAd7",
        "outputId": "48991c58-1430-4731-f02f-3a9147ae1182"
      },
      "execution_count": null,
      "outputs": [
        {
          "output_type": "stream",
          "name": "stdout",
          "text": [
            "Category\n",
            "Sports                1830\n",
            "Health                1697\n",
            "Entertainment         1633\n",
            "India & World         1525\n",
            "Crime                 1023\n",
            "Education & Career    1023\n",
            "Name: count, dtype: int64\n"
          ]
        }
      ]
    },
    {
      "cell_type": "code",
      "source": [
        "df.to_csv('hindi_news_dataset.csv', index=False, encoding='utf-8-sig')\n",
        "len(df)"
      ],
      "metadata": {
        "colab": {
          "base_uri": "https://localhost:8080/"
        },
        "id": "tYrDTytic7VP",
        "outputId": "aed0f16d-360d-4b6c-af6f-f1d23cacc400"
      },
      "execution_count": null,
      "outputs": [
        {
          "output_type": "execute_result",
          "data": {
            "text/plain": [
              "8731"
            ]
          },
          "metadata": {},
          "execution_count": 19
        }
      ]
    }
  ]
}